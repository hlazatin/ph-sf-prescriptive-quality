{
 "cells": [
  {
   "cell_type": "code",
   "execution_count": 1,
   "metadata": {
    "ExecuteTime": {
     "end_time": "2023-06-26T07:02:01.051765Z",
     "start_time": "2023-06-26T07:01:59.529803Z"
    }
   },
   "outputs": [],
   "source": [
    "import glob\n",
    "import os\n",
    "import re\n",
    "import ast\n",
    "from datetime import datetime\n",
    "from tqdm import tqdm\n",
    "from io import BytesIO\n",
    "import pandas as pd\n",
    "import matplotlib.pyplot as plt\n",
    "from azure.storage.blob import BlobServiceClient"
   ]
  },
  {
   "cell_type": "code",
   "execution_count": 2,
   "metadata": {
    "ExecuteTime": {
     "end_time": "2023-06-26T07:02:01.162469Z",
     "start_time": "2023-06-26T07:02:01.149504Z"
    }
   },
   "outputs": [],
   "source": [
    "# Storage container config\n",
    "storage_account_key = \"856t0JodjM+g9WGmLKsKtwqFbAgtTONU7MyqgG2WVtzeI9e1bTQsA/yk49zvVxfH3NkG92DG9DVw+AStiIW+/Q==\"\n",
    "storage_account_name = \"pqdatawarehouse\"\n",
    "connection_string = \"DefaultEndpointsProtocol=https;AccountName=pqdatawarehouse;AccountKey=856t0JodjM+g9WGmLKsKtwqFbAgtTONU7MyqgG2WVtzeI9e1bTQsA/yk49zvVxfH3NkG92DG9DVw+AStiIW+/Q==;EndpointSuffix=core.windows.net\"\n",
    "container_name = \"ant-datalake\"\n",
    "\n",
    "blob_service_client = BlobServiceClient.from_connection_string(connection_string)\n",
    "container_client = blob_service_client.get_container_client(container=container_name)"
   ]
  },
  {
   "cell_type": "code",
   "execution_count": 27,
   "metadata": {
    "ExecuteTime": {
     "end_time": "2023-06-26T07:10:11.897456Z",
     "start_time": "2023-06-26T07:10:11.882495Z"
    }
   },
   "outputs": [],
   "source": [
    "def get_blobs(prefix):\n",
    "    \"List blobs in the data lake based on prefix pattern\"\n",
    "    blob_list = container_client.list_blobs(name_starts_with=prefix)\n",
    "    all_blobs = [blob.name for blob in blob_list]\n",
    "    return all_blobs\n",
    "\n",
    "def extract_datetime(name):\n",
    "    \"\"\"Get datetime from the file name.\"\"\"\n",
    "    date_str = name.replace(\"-PLOT.parquet\", \"\").split(\")\")[-1]\n",
    "    return str(datetime.strptime(date_str, '%m %d %Y %H %M'))\n",
    "\n",
    "def plot(cols, df):\n",
    "    \"\"\"Displays a scatter plot of a given column/s\"\"\"\n",
    "    _, ax = plt.subplots(figsize=(8, 8))\n",
    "    df = df.to_frame().T\n",
    "\n",
    "    for col in cols:\n",
    "        series = df[col].apply(ast.literal_eval).explode()\n",
    "        x_coord = series.apply(lambda x: x[0]).values\n",
    "        y_coord = series.apply(lambda x: x[1]).values\n",
    "\n",
    "        if 'Fitted' in col:\n",
    "            ax.plot(x_coord, y_coord, label=col)\n",
    "        else:\n",
    "            ax.scatter(x_coord, y_coord, s=0.5, label=col)\n",
    "    plt.legend()\n",
    "    plt.show()"
   ]
  },
  {
   "cell_type": "markdown",
   "metadata": {},
   "source": [
    "#### Note:\n",
    "\n",
    "The general data lake structure is as follows:\n",
    "* <b>Region</b> (Baguio, East Aurora, etc.)\n",
    "    * <b> Business Unit </b> (CBU, HBU, GBU, etc.)\n",
    "        * <b> Product </b> (D026-001D, -026-284B, etc.)\n",
    "            * <b> HNULL </b>\n",
    "                * <b> Data Type </b>(PLOT, DFQ or RES)\n",
    "                    * <b>Year</b>\n",
    "                        * <b>Month</b>\n",
    "                            * <b>Day</b>\n",
    "            * <b> MAIN </b>\n",
    "                * <b> Category </b>(Pre-ATP, Final-ATP, etc.)\n",
    "                    * <b> Data Type </b> (PLOT, DFQ or RES)\n",
    "                        * <b> Year</b>\n",
    "                            * <b> Month</b>\n",
    "                                * <b> Day</b>\n"
   ]
  },
  {
   "cell_type": "code",
   "execution_count": 31,
   "metadata": {
    "ExecuteTime": {
     "end_time": "2023-06-26T07:12:07.616510Z",
     "start_time": "2023-06-26T07:11:07.753978Z"
    }
   },
   "outputs": [],
   "source": [
    "# Sample code to query all D026-001D HNULL plot data \n",
    "plot_files = get_blobs(prefix = 'Baguio/CBU/D026-001D/HNULL/PLOTS/2023' )\n",
    "parquet_files = [file for file in plot_files if \"parquet\" in file]"
   ]
  },
  {
   "cell_type": "code",
   "execution_count": 32,
   "metadata": {
    "ExecuteTime": {
     "end_time": "2023-06-26T07:12:07.930670Z",
     "start_time": "2023-06-26T07:12:07.916708Z"
    }
   },
   "outputs": [
    {
     "name": "stdout",
     "output_type": "stream",
     "text": [
      "No. of plot data for D026-001D: 31986\n"
     ]
    }
   ],
   "source": [
    "print(f\"No. of plot data for D026-001D: {len(parquet_files)}\")"
   ]
  },
  {
   "cell_type": "code",
   "execution_count": 30,
   "metadata": {
    "ExecuteTime": {
     "end_time": "2023-06-26T07:10:57.334210Z",
     "start_time": "2023-06-26T07:10:54.807412Z"
    }
   },
   "outputs": [
    {
     "name": "stderr",
     "output_type": "stream",
     "text": [
      "100%|██████████████████████████████████████████████████████████████████████████████████| 10/10 [00:02<00:00,  3.99it/s]\n"
     ]
    }
   ],
   "source": [
    "# Download parquet files from the blob to a dataframe without downloading the actual files\n",
    "results_df = pd.DataFrame()\n",
    "\n",
    "for file in tqdm(parquet_files[:10]):\n",
    "    downloaded_blob = container_client.download_blob(file)\n",
    "    bytes_io = BytesIO(downloaded_blob.readall())\n",
    "    df = pd.read_parquet(bytes_io)\n",
    "    df['Serial'] = re.findall(r'\\((.*?)\\)', file)[0]\n",
    "    df['Timestamp'] = extract_datetime(file)\n",
    "    df['Origin'] = os.path.basename(file).replace(\"-PLOT.parquet\",\".res\")\n",
    "    results_df = pd.concat([df, results_df])"
   ]
  },
  {
   "cell_type": "code",
   "execution_count": 17,
   "metadata": {
    "ExecuteTime": {
     "end_time": "2023-06-26T07:06:57.596675Z",
     "start_time": "2023-06-26T07:06:57.583709Z"
    }
   },
   "outputs": [
    {
     "data": {
      "text/html": [
       "<div>\n",
       "<style scoped>\n",
       "    .dataframe tbody tr th:only-of-type {\n",
       "        vertical-align: middle;\n",
       "    }\n",
       "\n",
       "    .dataframe tbody tr th {\n",
       "        vertical-align: top;\n",
       "    }\n",
       "\n",
       "    .dataframe thead th {\n",
       "        text-align: right;\n",
       "    }\n",
       "</style>\n",
       "<table border=\"1\" class=\"dataframe\">\n",
       "  <thead>\n",
       "    <tr style=\"text-align: right;\">\n",
       "      <th></th>\n",
       "      <th>Temperature</th>\n",
       "      <th>LandD_Raw</th>\n",
       "      <th>LandC_Raw</th>\n",
       "      <th>LandB_Raw</th>\n",
       "      <th>LandA_Raw</th>\n",
       "      <th>LandD_Fitted</th>\n",
       "      <th>LandC_Fitted</th>\n",
       "      <th>LandB_Fitted</th>\n",
       "      <th>LandA_Fitted</th>\n",
       "      <th>ExpandedFlow_Raw</th>\n",
       "      <th>InternalLeakage_Raw</th>\n",
       "      <th>PressureGain_Raw</th>\n",
       "      <th>DroopPressure_Raw</th>\n",
       "      <th>Serial</th>\n",
       "      <th>Timestamp</th>\n",
       "      <th>Origin</th>\n",
       "    </tr>\n",
       "  </thead>\n",
       "  <tbody>\n",
       "    <tr>\n",
       "      <th>0</th>\n",
       "      <td>35.002075</td>\n",
       "      <td>((-0.003690633, 2.630093328), (-0.003969644, 2...</td>\n",
       "      <td>((0.007482661, 5.529549233), (0.006822225, 5.0...</td>\n",
       "      <td>((-0.003560859, 2.591367136), (-0.007512455, 5...</td>\n",
       "      <td>((0.006145601, 4.361079759), (0.008062161, 5.6...</td>\n",
       "      <td>((-0.000127892, 0.0), (-0.006622937, 4.8))</td>\n",
       "      <td>((0.000181199, 0.0), (0.006359431, 4.8))</td>\n",
       "      <td>((-0.006465573, 4.8), (-0.000173349, 0.0))</td>\n",
       "      <td>((0.006728911, 4.8), (0.000239047, 0.0))</td>\n",
       "      <td>((1.215003049, -0.01499514), (1.464315712, -0....</td>\n",
       "      <td>((0.079194339, -0.016876091), (0.042563581, -0...</td>\n",
       "      <td>((2951.762068128, -0.02476357), (-2953.4964543...</td>\n",
       "      <td>((0.0, 0.0),)</td>\n",
       "      <td>B104981</td>\n",
       "      <td>2023-01-04 14:34:00</td>\n",
       "      <td>D026-001D H106_T156771(B104981)01 04 2023 14 3...</td>\n",
       "    </tr>\n",
       "    <tr>\n",
       "      <th>0</th>\n",
       "      <td>34.466356</td>\n",
       "      <td>((-0.007203806, 5.498355764), (-0.006898837, 5...</td>\n",
       "      <td>((0.004954746, 3.507982813), (0.007923472, 5.6...</td>\n",
       "      <td>((-0.007074032, 5.193956898), (-0.004095734, 3...</td>\n",
       "      <td>((0.006738572, 4.74318032), (0.004433519, 3.07...</td>\n",
       "      <td>((-0.006594707, 4.8), (-9.0499e-05, 0.0))</td>\n",
       "      <td>((0.006683541, 4.8), (0.000398177, 0.0))</td>\n",
       "      <td>((-0.006468706, 4.8), (-0.000143818, 0.0))</td>\n",
       "      <td>((0.000278701, 0.0), (0.006782204, 4.8))</td>\n",
       "      <td>((-0.168130637, -0.016743356), (0.2115514, -0....</td>\n",
       "      <td>((0.053048002, -0.015137586), (0.066638924, -0...</td>\n",
       "      <td>((-2951.955319745, -0.003599377), (2951.569672...</td>\n",
       "      <td>((0.0, 0.0),)</td>\n",
       "      <td>B104981</td>\n",
       "      <td>2023-01-04 14:19:00</td>\n",
       "      <td>D026-001D H106_T156771(B104981)01 04 2023 14 1...</td>\n",
       "    </tr>\n",
       "    <tr>\n",
       "      <th>0</th>\n",
       "      <td>33.834567</td>\n",
       "      <td>((-0.003659065, 0.668441929), (-0.005537532, 2...</td>\n",
       "      <td>((0.009650698, 5.01263668), (0.005762542, 2.27...</td>\n",
       "      <td>((-0.009359357, 4.970562432), (-0.004891909, 1...</td>\n",
       "      <td>((0.00647154, 2.788549848), (0.009903218, 5.28...</td>\n",
       "      <td>((-0.002740102, 0.0), (-0.009295479, 4.8))</td>\n",
       "      <td>((0.002756353, 0.0), (0.009129545, 4.8))</td>\n",
       "      <td>((-0.009086821, 4.8), (-0.002709655, 0.0))</td>\n",
       "      <td>((0.009196834, 4.8), (0.002697434, 0.0))</td>\n",
       "      <td>((0.0, 0.0),)</td>\n",
       "      <td>((0.0, 0.0),)</td>\n",
       "      <td>((0.0, 0.0),)</td>\n",
       "      <td>((0.0, 0.0),)</td>\n",
       "      <td>B104981</td>\n",
       "      <td>2023-01-04 13:52:00</td>\n",
       "      <td>D026-001D H106_T156771(B104981)01 04 2023 13 5...</td>\n",
       "    </tr>\n",
       "    <tr>\n",
       "      <th>0</th>\n",
       "      <td>33.612274</td>\n",
       "      <td>((-0.006486629, 1.503848821), (-0.006833773, 1...</td>\n",
       "      <td>((0.007777379, 2.282823459), (0.011798268, 5.3...</td>\n",
       "      <td>((-0.013260804, 6.287888442), (-0.005701502, 0...</td>\n",
       "      <td>((0.012342156, 5.819280258), (0.0126141, 6.021...</td>\n",
       "      <td>((-0.010989513, 4.8), (-0.004432094, 0.0))</td>\n",
       "      <td>((0.004697675, 0.0), (0.011132136, 4.8))</td>\n",
       "      <td>((-0.011106008, 4.8), (-0.004641457, 0.0))</td>\n",
       "      <td>((0.004393027, 0.0), (0.010942243, 4.8))</td>\n",
       "      <td>((0.0, 0.0),)</td>\n",
       "      <td>((0.0, 0.0),)</td>\n",
       "      <td>((0.0, 0.0),)</td>\n",
       "      <td>((0.0, 0.0),)</td>\n",
       "      <td>B104981</td>\n",
       "      <td>2023-01-04 13:15:00</td>\n",
       "      <td>D026-001D H106_T156771(B104981)01 04 2023 13 1...</td>\n",
       "    </tr>\n",
       "    <tr>\n",
       "      <th>0</th>\n",
       "      <td>31.91278</td>\n",
       "      <td>((-0.012041809, 5.776156292), (-0.012440862, 5...</td>\n",
       "      <td>((0.011742189, 5.270091127), (0.010537866, 4.3...</td>\n",
       "      <td>((-0.006646479, 1.412290183), (-0.005747798, 0...</td>\n",
       "      <td>((0.010107287, 4.219672383), (0.006678848, 1.7...</td>\n",
       "      <td>((-0.004474883, 0.0), (-0.011013318, 4.8))</td>\n",
       "      <td>((0.011063662, 4.8), (0.004683987, 0.0))</td>\n",
       "      <td>((-0.011117534, 4.8), (-0.004745986, 0.0))</td>\n",
       "      <td>((0.010865156, 4.8), (0.004372824, 0.0))</td>\n",
       "      <td>((0.0, 0.0),)</td>\n",
       "      <td>((0.0, 0.0),)</td>\n",
       "      <td>((0.0, 0.0),)</td>\n",
       "      <td>((0.0, 0.0),)</td>\n",
       "      <td>B104981</td>\n",
       "      <td>2023-01-04 13:05:00</td>\n",
       "      <td>D026-001D H106_T156771(B104981)01 04 2023 13 0...</td>\n",
       "    </tr>\n",
       "  </tbody>\n",
       "</table>\n",
       "</div>"
      ],
      "text/plain": [
       "  Temperature                                          LandD_Raw  \\\n",
       "0   35.002075  ((-0.003690633, 2.630093328), (-0.003969644, 2...   \n",
       "0   34.466356  ((-0.007203806, 5.498355764), (-0.006898837, 5...   \n",
       "0   33.834567  ((-0.003659065, 0.668441929), (-0.005537532, 2...   \n",
       "0   33.612274  ((-0.006486629, 1.503848821), (-0.006833773, 1...   \n",
       "0    31.91278  ((-0.012041809, 5.776156292), (-0.012440862, 5...   \n",
       "\n",
       "                                           LandC_Raw  \\\n",
       "0  ((0.007482661, 5.529549233), (0.006822225, 5.0...   \n",
       "0  ((0.004954746, 3.507982813), (0.007923472, 5.6...   \n",
       "0  ((0.009650698, 5.01263668), (0.005762542, 2.27...   \n",
       "0  ((0.007777379, 2.282823459), (0.011798268, 5.3...   \n",
       "0  ((0.011742189, 5.270091127), (0.010537866, 4.3...   \n",
       "\n",
       "                                           LandB_Raw  \\\n",
       "0  ((-0.003560859, 2.591367136), (-0.007512455, 5...   \n",
       "0  ((-0.007074032, 5.193956898), (-0.004095734, 3...   \n",
       "0  ((-0.009359357, 4.970562432), (-0.004891909, 1...   \n",
       "0  ((-0.013260804, 6.287888442), (-0.005701502, 0...   \n",
       "0  ((-0.006646479, 1.412290183), (-0.005747798, 0...   \n",
       "\n",
       "                                           LandA_Raw  \\\n",
       "0  ((0.006145601, 4.361079759), (0.008062161, 5.6...   \n",
       "0  ((0.006738572, 4.74318032), (0.004433519, 3.07...   \n",
       "0  ((0.00647154, 2.788549848), (0.009903218, 5.28...   \n",
       "0  ((0.012342156, 5.819280258), (0.0126141, 6.021...   \n",
       "0  ((0.010107287, 4.219672383), (0.006678848, 1.7...   \n",
       "\n",
       "                                 LandD_Fitted  \\\n",
       "0  ((-0.000127892, 0.0), (-0.006622937, 4.8))   \n",
       "0   ((-0.006594707, 4.8), (-9.0499e-05, 0.0))   \n",
       "0  ((-0.002740102, 0.0), (-0.009295479, 4.8))   \n",
       "0  ((-0.010989513, 4.8), (-0.004432094, 0.0))   \n",
       "0  ((-0.004474883, 0.0), (-0.011013318, 4.8))   \n",
       "\n",
       "                               LandC_Fitted  \\\n",
       "0  ((0.000181199, 0.0), (0.006359431, 4.8))   \n",
       "0  ((0.006683541, 4.8), (0.000398177, 0.0))   \n",
       "0  ((0.002756353, 0.0), (0.009129545, 4.8))   \n",
       "0  ((0.004697675, 0.0), (0.011132136, 4.8))   \n",
       "0  ((0.011063662, 4.8), (0.004683987, 0.0))   \n",
       "\n",
       "                                 LandB_Fitted  \\\n",
       "0  ((-0.006465573, 4.8), (-0.000173349, 0.0))   \n",
       "0  ((-0.006468706, 4.8), (-0.000143818, 0.0))   \n",
       "0  ((-0.009086821, 4.8), (-0.002709655, 0.0))   \n",
       "0  ((-0.011106008, 4.8), (-0.004641457, 0.0))   \n",
       "0  ((-0.011117534, 4.8), (-0.004745986, 0.0))   \n",
       "\n",
       "                               LandA_Fitted  \\\n",
       "0  ((0.006728911, 4.8), (0.000239047, 0.0))   \n",
       "0  ((0.000278701, 0.0), (0.006782204, 4.8))   \n",
       "0  ((0.009196834, 4.8), (0.002697434, 0.0))   \n",
       "0  ((0.004393027, 0.0), (0.010942243, 4.8))   \n",
       "0  ((0.010865156, 4.8), (0.004372824, 0.0))   \n",
       "\n",
       "                                    ExpandedFlow_Raw  \\\n",
       "0  ((1.215003049, -0.01499514), (1.464315712, -0....   \n",
       "0  ((-0.168130637, -0.016743356), (0.2115514, -0....   \n",
       "0                                      ((0.0, 0.0),)   \n",
       "0                                      ((0.0, 0.0),)   \n",
       "0                                      ((0.0, 0.0),)   \n",
       "\n",
       "                                 InternalLeakage_Raw  \\\n",
       "0  ((0.079194339, -0.016876091), (0.042563581, -0...   \n",
       "0  ((0.053048002, -0.015137586), (0.066638924, -0...   \n",
       "0                                      ((0.0, 0.0),)   \n",
       "0                                      ((0.0, 0.0),)   \n",
       "0                                      ((0.0, 0.0),)   \n",
       "\n",
       "                                    PressureGain_Raw DroopPressure_Raw  \\\n",
       "0  ((2951.762068128, -0.02476357), (-2953.4964543...     ((0.0, 0.0),)   \n",
       "0  ((-2951.955319745, -0.003599377), (2951.569672...     ((0.0, 0.0),)   \n",
       "0                                      ((0.0, 0.0),)     ((0.0, 0.0),)   \n",
       "0                                      ((0.0, 0.0),)     ((0.0, 0.0),)   \n",
       "0                                      ((0.0, 0.0),)     ((0.0, 0.0),)   \n",
       "\n",
       "    Serial            Timestamp  \\\n",
       "0  B104981  2023-01-04 14:34:00   \n",
       "0  B104981  2023-01-04 14:19:00   \n",
       "0  B104981  2023-01-04 13:52:00   \n",
       "0  B104981  2023-01-04 13:15:00   \n",
       "0  B104981  2023-01-04 13:05:00   \n",
       "\n",
       "                                              Origin  \n",
       "0  D026-001D H106_T156771(B104981)01 04 2023 14 3...  \n",
       "0  D026-001D H106_T156771(B104981)01 04 2023 14 1...  \n",
       "0  D026-001D H106_T156771(B104981)01 04 2023 13 5...  \n",
       "0  D026-001D H106_T156771(B104981)01 04 2023 13 1...  \n",
       "0  D026-001D H106_T156771(B104981)01 04 2023 13 0...  "
      ]
     },
     "execution_count": 17,
     "metadata": {},
     "output_type": "execute_result"
    }
   ],
   "source": [
    "results_df.head()"
   ]
  },
  {
   "cell_type": "code",
   "execution_count": 24,
   "metadata": {
    "ExecuteTime": {
     "end_time": "2023-06-26T07:08:54.294085Z",
     "start_time": "2023-06-26T07:08:54.170416Z"
    }
   },
   "outputs": [
    {
     "data": {
      "image/png": "[encoded data removed]",
      "text/plain": [
       "<Figure size 576x576 with 1 Axes>"
      ]
     },
     "metadata": {
      "needs_background": "light"
     },
     "output_type": "display_data"
    }
   ],
   "source": [
    "plot([f\"Land{i}_Fitted\"  for i in 'ABDC'], results_df.iloc[6])"
   ]
  },
  {
   "cell_type": "code",
   "execution_count": 18,
   "metadata": {
    "ExecuteTime": {
     "end_time": "2023-06-26T07:07:03.840124Z",
     "start_time": "2023-06-26T07:07:03.673569Z"
    }
   },
   "outputs": [
    {
     "data": {
      "image/png": "[encoded data removed]",
      "text/plain": [
       "<Figure size 576x576 with 1 Axes>"
      ]
     },
     "metadata": {
      "needs_background": "light"
     },
     "output_type": "display_data"
    }
   ],
   "source": [
    "plot([\"InternalLeakage_Raw\"], results_df.iloc[6])"
   ]
  },
  {
   "cell_type": "code",
   "execution_count": 26,
   "metadata": {
    "ExecuteTime": {
     "end_time": "2023-06-26T07:09:17.081556Z",
     "start_time": "2023-06-26T07:09:16.826239Z"
    }
   },
   "outputs": [
    {
     "data": {
      "image/png": "[encoded data removed]",
      "text/plain": [
       "<Figure size 576x576 with 1 Axes>"
      ]
     },
     "metadata": {
      "needs_background": "light"
     },
     "output_type": "display_data"
    }
   ],
   "source": [
    "plot([\"PressureGain_Raw\"], results_df.iloc[6])"
   ]
  },
  {
   "cell_type": "code",
   "execution_count": null,
   "metadata": {},
   "outputs": [],
   "source": []
  }
 ],
 "metadata": {
  "kernelspec": {
   "display_name": "Python 3",
   "language": "python",
   "name": "python3"
  },
  "language_info": {
   "codemirror_mode": {
    "name": "ipython",
    "version": 3
   },
   "file_extension": ".py",
   "mimetype": "text/x-python",
   "name": "python",
   "nbconvert_exporter": "python",
   "pygments_lexer": "ipython3",
   "version": "3.8.5"
  },
  "varInspector": {
   "cols": {
    "lenName": 16,
    "lenType": 16,
    "lenVar": 40
   },
   "kernels_config": {
    "python": {
     "delete_cmd_postfix": "",
     "delete_cmd_prefix": "del ",
     "library": "var_list.py",
     "varRefreshCmd": "print(var_dic_list())"
    },
    "r": {
     "delete_cmd_postfix": ") ",
     "delete_cmd_prefix": "rm(",
     "library": "var_list.r",
     "varRefreshCmd": "cat(var_dic_list()) "
    }
   },
   "types_to_exclude": [
    "module",
    "function",
    "builtin_function_or_method",
    "instance",
    "_Feature"
   ],
   "window_display": false
  }
 },
 "nbformat": 4,
 "nbformat_minor": 4
}
