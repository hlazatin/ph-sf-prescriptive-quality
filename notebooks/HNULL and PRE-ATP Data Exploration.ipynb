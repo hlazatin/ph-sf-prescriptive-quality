{
 "cells": [
  {
   "cell_type": "code",
   "execution_count": 1,
   "metadata": {
    "ExecuteTime": {
     "end_time": "2023-06-27T01:55:20.729978Z",
     "start_time": "2023-06-27T01:55:19.595480Z"
    }
   },
   "outputs": [],
   "source": [
    "import pandas as pd\n",
    "import matplotlib.pyplot as plt\n",
    "from modules.get_conn import get_conn\n",
    "from modules.helper_funcs import check_passing_wo, get_failing_test"
   ]
  },
  {
   "cell_type": "code",
   "execution_count": 2,
   "metadata": {
    "ExecuteTime": {
     "end_time": "2023-06-27T01:55:20.904019Z",
     "start_time": "2023-06-27T01:55:20.873594Z"
    }
   },
   "outputs": [],
   "source": [
    "conn = get_conn(server='antdw-sqlserver-dev.database.windows.net',\n",
    "                username='antdwdev_admin',\n",
    "                password='sm@rtf@ctory123',\n",
    "                db_name='antdw-dev')"
   ]
  },
  {
   "cell_type": "markdown",
   "metadata": {},
   "source": [
    "### HNULL DATA"
   ]
  },
  {
   "cell_type": "markdown",
   "metadata": {},
   "source": [
    "dbo.hnull_workorder\n",
    "- Work order table for HNULL. Primary Key: Order-Batch Number-Time. \n",
    "- The test rig used for D026-001D is inferred from the Manufacturer Number Text column. <br>Those tested in H106 rig has a value of D026-001D H106_T156771 while E102 rig has D026-001D E102_T156771"
   ]
  },
  {
   "cell_type": "code",
   "execution_count": 3,
   "metadata": {
    "ExecuteTime": {
     "end_time": "2023-06-27T01:50:31.989287Z",
     "start_time": "2023-06-27T01:49:19.061901Z"
    }
   },
   "outputs": [],
   "source": [
    "hnull_wo = pd.read_sql(\"\"\"SELECT * FROM [dbo].[hnull_workorder] \n",
    "                       WHERE [Manufacturer Number Text] IN ('D026-001D H106_T156771', 'D026-001D E102_T156771')   \n",
    "                       ORDER BY [Time] \"\"\", conn)"
   ]
  },
  {
   "cell_type": "code",
   "execution_count": 4,
   "metadata": {
    "ExecuteTime": {
     "end_time": "2023-06-27T01:50:32.034676Z",
     "start_time": "2023-06-27T01:50:31.999260Z"
    }
   },
   "outputs": [
    {
     "data": {
      "text/html": [
       "<div>\n",
       "<style scoped>\n",
       "    .dataframe tbody tr th:only-of-type {\n",
       "        vertical-align: middle;\n",
       "    }\n",
       "\n",
       "    .dataframe tbody tr th {\n",
       "        vertical-align: top;\n",
       "    }\n",
       "\n",
       "    .dataframe thead th {\n",
       "        text-align: right;\n",
       "    }\n",
       "</style>\n",
       "<table border=\"1\" class=\"dataframe\">\n",
       "  <thead>\n",
       "    <tr style=\"text-align: right;\">\n",
       "      <th></th>\n",
       "      <th>Order</th>\n",
       "      <th>Batch Number</th>\n",
       "      <th>Time</th>\n",
       "      <th>Product</th>\n",
       "      <th>Manufacturer Number Text</th>\n",
       "      <th>Remark</th>\n",
       "      <th>File</th>\n",
       "    </tr>\n",
       "  </thead>\n",
       "  <tbody>\n",
       "    <tr>\n",
       "      <th>0</th>\n",
       "      <td>04904760</td>\n",
       "      <td>B99083</td>\n",
       "      <td>2022-01-06 15:55:00</td>\n",
       "      <td>D026-001D</td>\n",
       "      <td>D026-001D H106_T156771</td>\n",
       "      <td>WI005527</td>\n",
       "      <td>D026-001D H106_T156771(B99083)01 06 2022 15 55...</td>\n",
       "    </tr>\n",
       "    <tr>\n",
       "      <th>1</th>\n",
       "      <td>04904760</td>\n",
       "      <td>B99083</td>\n",
       "      <td>2022-01-06 16:11:00</td>\n",
       "      <td>D026-001D</td>\n",
       "      <td>D026-001D H106_T156771</td>\n",
       "      <td>WI005527</td>\n",
       "      <td>D026-001D H106_T156771(B99083)01 06 2022 16 11...</td>\n",
       "    </tr>\n",
       "    <tr>\n",
       "      <th>2</th>\n",
       "      <td>04904761</td>\n",
       "      <td>B99084</td>\n",
       "      <td>2022-01-06 16:22:00</td>\n",
       "      <td>D026-001D</td>\n",
       "      <td>D026-001D H106_T156771</td>\n",
       "      <td>WI005527</td>\n",
       "      <td>D026-001D H106_T156771(B99084)01 06 2022 16 22...</td>\n",
       "    </tr>\n",
       "    <tr>\n",
       "      <th>3</th>\n",
       "      <td>04904761</td>\n",
       "      <td>B99084</td>\n",
       "      <td>2022-01-06 17:11:00</td>\n",
       "      <td>D026-001D</td>\n",
       "      <td>D026-001D H106_T156771</td>\n",
       "      <td>WI005527</td>\n",
       "      <td>D026-001D H106_T156771(B99084)01 06 2022 17 11...</td>\n",
       "    </tr>\n",
       "    <tr>\n",
       "      <th>4</th>\n",
       "      <td>04904757</td>\n",
       "      <td>B99080</td>\n",
       "      <td>2022-01-06 17:25:00</td>\n",
       "      <td>D026-001D</td>\n",
       "      <td>D026-001D H106_T156771</td>\n",
       "      <td>WI005527</td>\n",
       "      <td>D026-001D H106_T156771(B99080)01 06 2022 17 25...</td>\n",
       "    </tr>\n",
       "    <tr>\n",
       "      <th>...</th>\n",
       "      <td>...</td>\n",
       "      <td>...</td>\n",
       "      <td>...</td>\n",
       "      <td>...</td>\n",
       "      <td>...</td>\n",
       "      <td>...</td>\n",
       "      <td>...</td>\n",
       "    </tr>\n",
       "    <tr>\n",
       "      <th>32002</th>\n",
       "      <td>05206603</td>\n",
       "      <td>B108955</td>\n",
       "      <td>2023-06-27 06:22:00</td>\n",
       "      <td>D026-001D</td>\n",
       "      <td>D026-001D H106_T156771</td>\n",
       "      <td>WI005527</td>\n",
       "      <td>D026-001D H106_T156771(B108955)06 27 2023 06 2...</td>\n",
       "    </tr>\n",
       "    <tr>\n",
       "      <th>32003</th>\n",
       "      <td>05206603</td>\n",
       "      <td>B108955</td>\n",
       "      <td>2023-06-27 06:30:00</td>\n",
       "      <td>D026-001D</td>\n",
       "      <td>D026-001D H106_T156771</td>\n",
       "      <td>WI005527</td>\n",
       "      <td>D026-001D H106_T156771(B108955)06 27 2023 06 3...</td>\n",
       "    </tr>\n",
       "    <tr>\n",
       "      <th>32004</th>\n",
       "      <td>05206603</td>\n",
       "      <td>B108955</td>\n",
       "      <td>2023-06-27 07:18:00</td>\n",
       "      <td>D026-001D</td>\n",
       "      <td>D026-001D H106_T156771</td>\n",
       "      <td>WI005527</td>\n",
       "      <td>D026-001D H106_T156771(B108955)06 27 2023 07 1...</td>\n",
       "    </tr>\n",
       "    <tr>\n",
       "      <th>32005</th>\n",
       "      <td>05206602</td>\n",
       "      <td>B108954</td>\n",
       "      <td>2023-06-27 07:34:00</td>\n",
       "      <td>D026-001D</td>\n",
       "      <td>D026-001D H106_T156771</td>\n",
       "      <td>WI005527</td>\n",
       "      <td>D026-001D H106_T156771(B108954)06 27 2023 07 3...</td>\n",
       "    </tr>\n",
       "    <tr>\n",
       "      <th>32006</th>\n",
       "      <td>05206602</td>\n",
       "      <td>B108954</td>\n",
       "      <td>2023-06-27 07:41:00</td>\n",
       "      <td>D026-001D</td>\n",
       "      <td>D026-001D H106_T156771</td>\n",
       "      <td>WI005527</td>\n",
       "      <td>D026-001D H106_T156771(B108954)06 27 2023 07 4...</td>\n",
       "    </tr>\n",
       "  </tbody>\n",
       "</table>\n",
       "<p>32007 rows × 7 columns</p>\n",
       "</div>"
      ],
      "text/plain": [
       "          Order Batch Number                 Time    Product  \\\n",
       "0      04904760       B99083  2022-01-06 15:55:00  D026-001D   \n",
       "1      04904760       B99083  2022-01-06 16:11:00  D026-001D   \n",
       "2      04904761       B99084  2022-01-06 16:22:00  D026-001D   \n",
       "3      04904761       B99084  2022-01-06 17:11:00  D026-001D   \n",
       "4      04904757       B99080  2022-01-06 17:25:00  D026-001D   \n",
       "...         ...          ...                  ...        ...   \n",
       "32002  05206603      B108955  2023-06-27 06:22:00  D026-001D   \n",
       "32003  05206603      B108955  2023-06-27 06:30:00  D026-001D   \n",
       "32004  05206603      B108955  2023-06-27 07:18:00  D026-001D   \n",
       "32005  05206602      B108954  2023-06-27 07:34:00  D026-001D   \n",
       "32006  05206602      B108954  2023-06-27 07:41:00  D026-001D   \n",
       "\n",
       "      Manufacturer Number Text    Remark  \\\n",
       "0       D026-001D H106_T156771  WI005527   \n",
       "1       D026-001D H106_T156771  WI005527   \n",
       "2       D026-001D H106_T156771  WI005527   \n",
       "3       D026-001D H106_T156771  WI005527   \n",
       "4       D026-001D H106_T156771  WI005527   \n",
       "...                        ...       ...   \n",
       "32002   D026-001D H106_T156771  WI005527   \n",
       "32003   D026-001D H106_T156771  WI005527   \n",
       "32004   D026-001D H106_T156771  WI005527   \n",
       "32005   D026-001D H106_T156771  WI005527   \n",
       "32006   D026-001D H106_T156771  WI005527   \n",
       "\n",
       "                                                    File  \n",
       "0      D026-001D H106_T156771(B99083)01 06 2022 15 55...  \n",
       "1      D026-001D H106_T156771(B99083)01 06 2022 16 11...  \n",
       "2      D026-001D H106_T156771(B99084)01 06 2022 16 22...  \n",
       "3      D026-001D H106_T156771(B99084)01 06 2022 17 11...  \n",
       "4      D026-001D H106_T156771(B99080)01 06 2022 17 25...  \n",
       "...                                                  ...  \n",
       "32002  D026-001D H106_T156771(B108955)06 27 2023 06 2...  \n",
       "32003  D026-001D H106_T156771(B108955)06 27 2023 06 3...  \n",
       "32004  D026-001D H106_T156771(B108955)06 27 2023 07 1...  \n",
       "32005  D026-001D H106_T156771(B108954)06 27 2023 07 3...  \n",
       "32006  D026-001D H106_T156771(B108954)06 27 2023 07 4...  \n",
       "\n",
       "[32007 rows x 7 columns]"
      ]
     },
     "execution_count": 4,
     "metadata": {},
     "output_type": "execute_result"
    }
   ],
   "source": [
    "hnull_wo"
   ]
  },
  {
   "cell_type": "markdown",
   "metadata": {
    "ExecuteTime": {
     "end_time": "2023-05-23T09:06:54.693219Z",
     "start_time": "2023-05-23T09:06:54.682248Z"
    }
   },
   "source": [
    "* dbo.hnull_result - Table containing results for HNULL tests. One row corresponds to 1 HNULL test. "
   ]
  },
  {
   "cell_type": "code",
   "execution_count": 5,
   "metadata": {
    "ExecuteTime": {
     "end_time": "2023-06-27T01:50:33.687449Z",
     "start_time": "2023-06-27T01:50:32.036671Z"
    }
   },
   "outputs": [],
   "source": [
    "hnull_result = pd.read_sql(\"\"\"SELECT TOP(5) * FROM [dbo].[hnull_result]  \"\"\", conn)"
   ]
  },
  {
   "cell_type": "code",
   "execution_count": 6,
   "metadata": {
    "ExecuteTime": {
     "end_time": "2023-06-27T01:50:33.718366Z",
     "start_time": "2023-06-27T01:50:33.689444Z"
    }
   },
   "outputs": [
    {
     "data": {
      "text/html": [
       "<div>\n",
       "<style scoped>\n",
       "    .dataframe tbody tr th:only-of-type {\n",
       "        vertical-align: middle;\n",
       "    }\n",
       "\n",
       "    .dataframe tbody tr th {\n",
       "        vertical-align: top;\n",
       "    }\n",
       "\n",
       "    .dataframe thead th {\n",
       "        text-align: right;\n",
       "    }\n",
       "</style>\n",
       "<table border=\"1\" class=\"dataframe\">\n",
       "  <thead>\n",
       "    <tr style=\"text-align: right;\">\n",
       "      <th></th>\n",
       "      <th>Order</th>\n",
       "      <th>Batch Number</th>\n",
       "      <th>Time</th>\n",
       "      <th>Characteristic Number</th>\n",
       "      <th>Characteristic Description</th>\n",
       "      <th>Characteristic Type</th>\n",
       "      <th>Characteristics Class</th>\n",
       "      <th>Decimal Places</th>\n",
       "      <th>Nominal Value</th>\n",
       "      <th>Lower Specification Limit</th>\n",
       "      <th>Upper Specification Limit</th>\n",
       "      <th>Unit</th>\n",
       "      <th>Subgroup Size</th>\n",
       "      <th>Subgroup Type</th>\n",
       "      <th>Measured Value</th>\n",
       "      <th>Attribute</th>\n",
       "      <th>Text</th>\n",
       "      <th>Gage Number</th>\n",
       "    </tr>\n",
       "  </thead>\n",
       "  <tbody>\n",
       "    <tr>\n",
       "      <th>0</th>\n",
       "      <td>05197820</td>\n",
       "      <td>B2740</td>\n",
       "      <td>2023-05-30 14:56:00</td>\n",
       "      <td>Null Plot</td>\n",
       "      <td>Null land C-A</td>\n",
       "      <td>0</td>\n",
       "      <td>3</td>\n",
       "      <td>3</td>\n",
       "      <td>7.112</td>\n",
       "      <td></td>\n",
       "      <td>7.112</td>\n",
       "      <td>um</td>\n",
       "      <td>2</td>\n",
       "      <td>1</td>\n",
       "      <td>5.080</td>\n",
       "      <td>0</td>\n",
       "      <td></td>\n",
       "      <td>373</td>\n",
       "    </tr>\n",
       "    <tr>\n",
       "      <th>1</th>\n",
       "      <td>05197820</td>\n",
       "      <td>B2740</td>\n",
       "      <td>2023-05-30 14:56:00</td>\n",
       "      <td>Expanded Flow Plot</td>\n",
       "      <td>Threshold result</td>\n",
       "      <td>0</td>\n",
       "      <td>3</td>\n",
       "      <td>3</td>\n",
       "      <td>0.000</td>\n",
       "      <td></td>\n",
       "      <td></td>\n",
       "      <td>cis</td>\n",
       "      <td>2</td>\n",
       "      <td>1</td>\n",
       "      <td>0.000</td>\n",
       "      <td>0</td>\n",
       "      <td></td>\n",
       "      <td>373</td>\n",
       "    </tr>\n",
       "    <tr>\n",
       "      <th>2</th>\n",
       "      <td>05197820</td>\n",
       "      <td>B2740</td>\n",
       "      <td>2023-05-30 14:56:00</td>\n",
       "      <td>Expanded Flow Plot</td>\n",
       "      <td>Null Bias Results</td>\n",
       "      <td>0</td>\n",
       "      <td>3</td>\n",
       "      <td>3</td>\n",
       "      <td>0.000</td>\n",
       "      <td></td>\n",
       "      <td></td>\n",
       "      <td>mA</td>\n",
       "      <td>2</td>\n",
       "      <td>1</td>\n",
       "      <td>0.000</td>\n",
       "      <td>0</td>\n",
       "      <td></td>\n",
       "      <td>373</td>\n",
       "    </tr>\n",
       "    <tr>\n",
       "      <th>3</th>\n",
       "      <td>05197820</td>\n",
       "      <td>B2740</td>\n",
       "      <td>2023-05-30 14:56:00</td>\n",
       "      <td>Pressure Plot</td>\n",
       "      <td>Null Pressure</td>\n",
       "      <td>0</td>\n",
       "      <td>3</td>\n",
       "      <td>3</td>\n",
       "      <td>1400.000</td>\n",
       "      <td>1000.000</td>\n",
       "      <td>1800.000</td>\n",
       "      <td>psi</td>\n",
       "      <td>2</td>\n",
       "      <td>1</td>\n",
       "      <td>1922.975</td>\n",
       "      <td>0</td>\n",
       "      <td></td>\n",
       "      <td>373</td>\n",
       "    </tr>\n",
       "    <tr>\n",
       "      <th>4</th>\n",
       "      <td>05197820</td>\n",
       "      <td>B2740</td>\n",
       "      <td>2023-05-30 14:56:00</td>\n",
       "      <td>Pressure Plot</td>\n",
       "      <td>Null Bias</td>\n",
       "      <td>0</td>\n",
       "      <td>3</td>\n",
       "      <td>3</td>\n",
       "      <td>0.000</td>\n",
       "      <td></td>\n",
       "      <td></td>\n",
       "      <td>mA</td>\n",
       "      <td>2</td>\n",
       "      <td>1</td>\n",
       "      <td>0.000</td>\n",
       "      <td>0</td>\n",
       "      <td></td>\n",
       "      <td>373</td>\n",
       "    </tr>\n",
       "  </tbody>\n",
       "</table>\n",
       "</div>"
      ],
      "text/plain": [
       "      Order Batch Number                 Time Characteristic Number  \\\n",
       "0  05197820        B2740  2023-05-30 14:56:00             Null Plot   \n",
       "1  05197820        B2740  2023-05-30 14:56:00    Expanded Flow Plot   \n",
       "2  05197820        B2740  2023-05-30 14:56:00    Expanded Flow Plot   \n",
       "3  05197820        B2740  2023-05-30 14:56:00         Pressure Plot   \n",
       "4  05197820        B2740  2023-05-30 14:56:00         Pressure Plot   \n",
       "\n",
       "  Characteristic Description Characteristic Type Characteristics Class  \\\n",
       "0              Null land C-A                   0                     3   \n",
       "1           Threshold result                   0                     3   \n",
       "2          Null Bias Results                   0                     3   \n",
       "3              Null Pressure                   0                     3   \n",
       "4                  Null Bias                   0                     3   \n",
       "\n",
       "  Decimal Places Nominal Value Lower Specification Limit  \\\n",
       "0              3         7.112                             \n",
       "1              3         0.000                             \n",
       "2              3         0.000                             \n",
       "3              3      1400.000                  1000.000   \n",
       "4              3         0.000                             \n",
       "\n",
       "  Upper Specification Limit Unit Subgroup Size Subgroup Type Measured Value  \\\n",
       "0                     7.112   um             2             1          5.080   \n",
       "1                            cis             2             1          0.000   \n",
       "2                             mA             2             1          0.000   \n",
       "3                  1800.000  psi             2             1       1922.975   \n",
       "4                             mA             2             1          0.000   \n",
       "\n",
       "  Attribute Text Gage Number  \n",
       "0         0              373  \n",
       "1         0              373  \n",
       "2         0              373  \n",
       "3         0              373  \n",
       "4         0              373  "
      ]
     },
     "execution_count": 6,
     "metadata": {},
     "output_type": "execute_result"
    }
   ],
   "source": [
    "hnull_result"
   ]
  },
  {
   "cell_type": "markdown",
   "metadata": {},
   "source": [
    "#### Getting HNULL Data\n",
    "\n",
    "To get the HNULL test results, you need to join hnull workorder table and hnull result table on the primary key (Order-Batch Number-Time)"
   ]
  },
  {
   "cell_type": "code",
   "execution_count": null,
   "metadata": {
    "ExecuteTime": {
     "start_time": "2023-06-27T01:49:17.866Z"
    }
   },
   "outputs": [],
   "source": [
    "wo_result_script = \"\"\"\n",
    "SELECT  \n",
    "    WO.[Order], \n",
    "    WO.[Batch Number], \n",
    "    WO.[Time], \n",
    "    WO.[Manufacturer Number Text],\n",
    "    RES.[Characteristic Description],\n",
    "    RES.[Measured Value],\n",
    "    RES.[Lower Specification Limit],\n",
    "    RES.[Upper Specification Limit]\n",
    "FROM [dbo].[hnull_workorder] WO \n",
    "    LEFT JOIN [dbo].[hnull_result] RES on \n",
    "    WO.[Order] = RES.[Order] AND \n",
    "    WO.[Batch Number] = RES.[Batch Number] AND \n",
    "    WO.[Time] = RES.[Time]\n",
    "WHERE [Manufacturer Number Text] \n",
    "    IN ('D026-001D H106_T156771', 'D026-001D E102_T156771')\n",
    "\"\"\"\n",
    "\n",
    "hnull_wo_result = pd.read_sql(wo_result_script, conn)"
   ]
  },
  {
   "cell_type": "code",
   "execution_count": null,
   "metadata": {
    "ExecuteTime": {
     "start_time": "2023-06-27T01:49:17.868Z"
    }
   },
   "outputs": [],
   "source": [
    "# Removing workorders and tests with no measured values\n",
    "hnull_wo_result = hnull_wo_result.dropna(\n",
    "    subset=['Order', 'Batch Number', 'Time', 'Characteristic Description', 'Measured Value']).drop_duplicates()\n",
    "hnull_wo_result = hnull_wo_result[~((hnull_wo_result['Batch Number'] == '') | (hnull_wo_result['Order'] == ''))]"
   ]
  },
  {
   "cell_type": "code",
   "execution_count": null,
   "metadata": {
    "ExecuteTime": {
     "start_time": "2023-06-27T01:49:17.869Z"
    }
   },
   "outputs": [],
   "source": [
    "numeric_cols = ['Measured Value', 'Lower Specification Limit', 'Upper Specification Limit']\n",
    "hnull_wo_result[numeric_cols] = hnull_wo_result[numeric_cols].replace('', np.nan).astype(float)"
   ]
  },
  {
   "cell_type": "code",
   "execution_count": null,
   "metadata": {
    "ExecuteTime": {
     "start_time": "2023-06-27T01:49:17.870Z"
    }
   },
   "outputs": [],
   "source": [
    "hnull_wo_result = hnull_wo_result.drop_duplicates(\n",
    "    subset=['Order', 'Batch Number', 'Time', 'Characteristic Description', 'Measured Value'])"
   ]
  },
  {
   "cell_type": "code",
   "execution_count": null,
   "metadata": {
    "ExecuteTime": {
     "start_time": "2023-06-27T01:49:17.872Z"
    }
   },
   "outputs": [],
   "source": [
    "hnull_feature_set = hnull_wo_result.pivot(index=['Order', 'Batch Number', 'Time'],\n",
    "                                          columns='Characteristic Description',\n",
    "                                          values=\"Measured Value\")"
   ]
  },
  {
   "cell_type": "code",
   "execution_count": null,
   "metadata": {
    "ExecuteTime": {
     "start_time": "2023-06-27T01:49:17.873Z"
    }
   },
   "outputs": [],
   "source": [
    "# Hnull cleaning\n",
    "# % of null values per column\n",
    "(hnull_feature_set.isnull().sum() / hnull_feature_set.shape[0]) * 100"
   ]
  },
  {
   "cell_type": "code",
   "execution_count": null,
   "metadata": {
    "ExecuteTime": {
     "start_time": "2023-06-27T01:49:17.875Z"
    }
   },
   "outputs": [],
   "source": [
    "### Dropping columns (i.e. hnull tests) with at least 50% of it's values missing\n",
    "hnull_feature_set_filtered = hnull_feature_set.loc[:, hnull_feature_set.isin(['',np.nan]).mean() < .5]\n",
    "hnull_feature_set_filtered = hnull_feature_set_filtered.astype(float)"
   ]
  },
  {
   "cell_type": "code",
   "execution_count": null,
   "metadata": {
    "ExecuteTime": {
     "start_time": "2023-06-27T01:49:17.876Z"
    }
   },
   "outputs": [],
   "source": [
    "hnull_feature_set_filtered.hist(figsize=(20,12));\n",
    "plt.show()"
   ]
  },
  {
   "cell_type": "code",
   "execution_count": null,
   "metadata": {
    "ExecuteTime": {
     "start_time": "2023-06-27T01:49:17.878Z"
    }
   },
   "outputs": [],
   "source": [
    "hnull_feature_set_filtered = hnull_feature_set_filtered.loc[:,hnull_feature_set_filtered.nunique()>1]"
   ]
  },
  {
   "cell_type": "code",
   "execution_count": null,
   "metadata": {
    "ExecuteTime": {
     "start_time": "2023-06-27T01:49:17.879Z"
    }
   },
   "outputs": [],
   "source": [
    "hnull_feature_set_filtered = hnull_feature_set_filtered.dropna()"
   ]
  },
  {
   "cell_type": "code",
   "execution_count": null,
   "metadata": {
    "ExecuteTime": {
     "start_time": "2023-06-27T01:49:17.881Z"
    }
   },
   "outputs": [],
   "source": [
    "hnull_feature_set_filtered = hnull_feature_set_filtered.merge(check_passing_wo(hnull_wo_result, process='HNULL'), left_index=True, right_index=True)"
   ]
  },
  {
   "cell_type": "code",
   "execution_count": null,
   "metadata": {
    "ExecuteTime": {
     "start_time": "2023-06-27T01:49:17.882Z"
    }
   },
   "outputs": [],
   "source": [
    "test_cols = ['Null Pressure','Pressure Gain', 'Peak Leakage']\n",
    "hnull_feature_set_filtered.loc[~(hnull_feature_set_filtered[test_cols]==0).all(axis=1), 'Complete'] = True\n",
    "hnull_feature_set_filtered['Complete'].fillna(False, inplace=True)"
   ]
  },
  {
   "cell_type": "code",
   "execution_count": null,
   "metadata": {
    "ExecuteTime": {
     "start_time": "2023-06-27T01:49:17.883Z"
    }
   },
   "outputs": [],
   "source": [
    "hnull_feature_set_filtered"
   ]
  },
  {
   "cell_type": "markdown",
   "metadata": {},
   "source": [
    "### PRE-ATP"
   ]
  },
  {
   "cell_type": "markdown",
   "metadata": {},
   "source": [
    "dbo.atp_workorder - similar to hnull workorder except its related to all ATP related workorders (PRE-ATP, Final ATP etc.) Interest is on PRE-ATP"
   ]
  },
  {
   "cell_type": "code",
   "execution_count": null,
   "metadata": {
    "ExecuteTime": {
     "start_time": "2023-06-27T01:49:17.885Z"
    }
   },
   "outputs": [],
   "source": [
    "atp_wo = pd.read_sql(\"\"\"SELECT TOP(10) * FROM [dbo].[atp_workorder] WHERE Product = 'D026-001D PRE-ATP' ORDER BY [Time]\"\"\", conn)"
   ]
  },
  {
   "cell_type": "code",
   "execution_count": null,
   "metadata": {
    "ExecuteTime": {
     "start_time": "2023-06-27T01:49:17.886Z"
    }
   },
   "outputs": [],
   "source": [
    "atp_wo.head()"
   ]
  },
  {
   "cell_type": "markdown",
   "metadata": {},
   "source": [
    "dbo.atp_result - similar to hnull result except its related to all ATP related tests (PRE-ATP, Final ATP etc.). Our Interest is on Null Pressure Test (CPPN) although feel free to explore other tests"
   ]
  },
  {
   "cell_type": "code",
   "execution_count": null,
   "metadata": {
    "ExecuteTime": {
     "start_time": "2023-06-27T01:49:17.887Z"
    }
   },
   "outputs": [],
   "source": [
    "atp_result = pd.read_sql(\"\"\"SELECT TOP(5) * FROM [dbo].[atp_result]  \"\"\", conn)"
   ]
  },
  {
   "cell_type": "code",
   "execution_count": null,
   "metadata": {
    "ExecuteTime": {
     "start_time": "2023-06-27T01:49:17.889Z"
    }
   },
   "outputs": [],
   "source": [
    "# Filtering for CPPN only.\n",
    "atp_result_cppn = pd.read_sql(\"\"\"SELECT TOP(5) * FROM [dbo].[atp_result] WHERE [Characteristic Description] = 'Null Pressure_PRESSURE TEST' \"\"\", conn)"
   ]
  },
  {
   "cell_type": "markdown",
   "metadata": {},
   "source": [
    "#### Getting PRE-ATP Data"
   ]
  },
  {
   "cell_type": "code",
   "execution_count": null,
   "metadata": {
    "ExecuteTime": {
     "start_time": "2023-06-27T01:49:17.891Z"
    }
   },
   "outputs": [],
   "source": [
    "get_atp_script = \"\"\"\n",
    "SELECT  \n",
    "    WO.[Order], \n",
    "    WO.[Batch Number], \n",
    "    WO.[Time], \n",
    "    WO.[Product],\n",
    "    RES.[Characteristic Description],\n",
    "    RES.[Measured Value],\n",
    "    RES.[Lower Specification Limit],\n",
    "    RES.[Upper Specification Limit]\n",
    "FROM [dbo].[atp_workorder] WO \n",
    "    LEFT JOIN [dbo].[atp_result] RES on \n",
    "        WO.[Order] = RES.[Order] AND \n",
    "        WO.[Batch Number] = RES.[Batch Number] AND \n",
    "        WO.[Time] = RES.[Time]\n",
    "WHERE Product IN ('D026-001D PRE-ATP', 'D026-001D PGAL') \"\"\"\n",
    "\n",
    "atp_wo_result = pd.read_sql(get_atp_script, conn)"
   ]
  },
  {
   "cell_type": "code",
   "execution_count": null,
   "metadata": {
    "ExecuteTime": {
     "start_time": "2023-06-27T01:49:17.892Z"
    }
   },
   "outputs": [],
   "source": [
    "atp_wo_result.Order = atp_wo_result.Order.str.replace(\".\",\"\").str.replace(\" \",\"\").str.strip()"
   ]
  },
  {
   "cell_type": "code",
   "execution_count": null,
   "metadata": {
    "ExecuteTime": {
     "start_time": "2023-06-27T01:49:17.893Z"
    }
   },
   "outputs": [],
   "source": [
    "# Removing workorders and tests with no measured values\n",
    "atp_wo_result = atp_wo_result.dropna(\n",
    "    subset=['Order', 'Batch Number', 'Time', 'Characteristic Description', 'Measured Value']).drop_duplicates()\n",
    "atp_wo_result = atp_wo_result[~(\n",
    "    (atp_wo_result['Batch Number'] == '') | (atp_wo_result['Order'] == ''))]"
   ]
  },
  {
   "cell_type": "code",
   "execution_count": null,
   "metadata": {
    "ExecuteTime": {
     "start_time": "2023-06-27T01:49:17.894Z"
    }
   },
   "outputs": [],
   "source": [
    "atp_wo_result[numeric_cols] = atp_wo_result[numeric_cols].replace('', np.nan).astype(float)"
   ]
  },
  {
   "cell_type": "code",
   "execution_count": null,
   "metadata": {
    "ExecuteTime": {
     "start_time": "2023-06-27T01:49:17.895Z"
    }
   },
   "outputs": [],
   "source": [
    "atp_target = atp_wo_result.pivot(index=['Order', 'Batch Number', 'Time', 'Product'],\n",
    "                                 columns='Characteristic Description', \n",
    "                                 values=\"Measured Value\")"
   ]
  },
  {
   "cell_type": "code",
   "execution_count": null,
   "metadata": {
    "ExecuteTime": {
     "start_time": "2023-06-27T01:49:17.896Z"
    }
   },
   "outputs": [],
   "source": [
    "atp_target = atp_target.merge(check_passing_wo(atp_wo_result, process='ATP'), left_index=True, right_index=True)"
   ]
  },
  {
   "cell_type": "code",
   "execution_count": null,
   "metadata": {
    "ExecuteTime": {
     "start_time": "2023-06-27T01:49:17.897Z"
    }
   },
   "outputs": [],
   "source": [
    "atp_target  = atp_target.merge(get_failing_test(atp_wo_result).reset_index(), how='left', \n",
    "                 on=['Order','Batch Number', 'Time'])"
   ]
  },
  {
   "cell_type": "code",
   "execution_count": null,
   "metadata": {
    "ExecuteTime": {
     "start_time": "2023-06-27T01:49:17.898Z"
    }
   },
   "outputs": [],
   "source": [
    "# % of null values per column\n",
    "(atp_target.isnull().sum() / atp_target.shape[0]) * 100"
   ]
  },
  {
   "cell_type": "code",
   "execution_count": null,
   "metadata": {
    "ExecuteTime": {
     "start_time": "2023-06-27T01:49:17.899Z"
    }
   },
   "outputs": [],
   "source": [
    "### Dropping columns (i.e. hnull tests) with at least 75% of it's values missing\n",
    "atp_target_filtered = atp_target.loc[:, atp_target.isin(['',np.nan]).mean() < .9]"
   ]
  },
  {
   "cell_type": "code",
   "execution_count": null,
   "metadata": {
    "ExecuteTime": {
     "start_time": "2023-06-27T01:49:17.900Z"
    }
   },
   "outputs": [],
   "source": [
    "test_cols = ['Null Pressure_PRESSURE TEST']\n",
    "atp_target_filtered.loc[~atp_target_filtered[test_cols].isna().any(axis=1), 'Complete'] = True\n",
    "atp_target_filtered[\"Complete\"].fillna(False, inplace=True)"
   ]
  },
  {
   "cell_type": "markdown",
   "metadata": {},
   "source": [
    "### Merging HNULL and PRE-ATP data"
   ]
  },
  {
   "cell_type": "markdown",
   "metadata": {},
   "source": [
    "We get all valid HNULL, and PATP results. \n",
    "\n",
    "A valid HNULL entry is complete and passing. Incomplete and Failing HNULL WO do not go through PATP. In case there are multiple valid HNULL entries with same WO/SN, retain latest.\n",
    "\n",
    "A valid PATP data should have CPPN tests.\n",
    "\n",
    "\n",
    "PATP and HNULL are matched based on succeeding time stamps (i.e. an HNULL entry with a given WO, SN will be matched to PATP entry of the same WO/SN with a time stamp that succeeds the HNULL time stamp). \n",
    "In the case where multiple PATP succeeds a given HNULL data, only the latest time stamp is considered if all succeeding PATP are does not have a CPPN failure. Else, we match the closest PATP entry with CPPN failure."
   ]
  },
  {
   "cell_type": "code",
   "execution_count": null,
   "metadata": {
    "ExecuteTime": {
     "start_time": "2023-06-27T01:49:17.901Z"
    }
   },
   "outputs": [],
   "source": [
    "valid_hnulls = hnull_feature_set_filtered[hnull_feature_set_filtered.Pass & hnull_feature_set_filtered.Complete].reset_index()\n",
    "valid_patp = atp_target_filtered[atp_target_filtered.Complete].reset_index(drop=True)"
   ]
  },
  {
   "cell_type": "code",
   "execution_count": null,
   "metadata": {
    "ExecuteTime": {
     "start_time": "2023-06-27T01:49:17.902Z"
    }
   },
   "outputs": [],
   "source": [
    "valid_hnulls = valid_hnulls.rename(columns={\"Time\":\"HNULL_Time\", \"Complete\":\"HNULL_Complete\",\"Pass\":\"HNULL_Pass\"})\n",
    "valid_patp = valid_patp.rename(columns={\"Time\":\"PATP_Time\", \"Complete\":\"PATP_Complete\",\"Pass\":\"PATP_Pass\"})\n",
    "valid_patp[\"Batch Number\"] = valid_patp[\"Batch Number\"].str.rstrip(\" Final\").str.strip()"
   ]
  },
  {
   "cell_type": "code",
   "execution_count": null,
   "metadata": {
    "ExecuteTime": {
     "start_time": "2023-06-27T01:49:17.902Z"
    }
   },
   "outputs": [],
   "source": [
    "# Retain latest HNULL iteration\n",
    "valid_hnulls = valid_hnulls.sort_values(['Order','Batch Number', 'HNULL_Time']).drop_duplicates(['Order','Batch Number'], keep='last')"
   ]
  },
  {
   "cell_type": "code",
   "execution_count": null,
   "metadata": {
    "ExecuteTime": {
     "start_time": "2023-06-27T01:49:17.903Z"
    }
   },
   "outputs": [],
   "source": [
    "# We find which PATP work orders have at least 1 CPPN failure\n",
    "valid_patp['CPPN_FAIL'] = valid_patp['Test'].apply(lambda x: 'Null Pressure_PRESSURE TEST' in str(x))\n",
    "workorders_with_cppn = valid_patp.groupby([\"Order\",\"Batch Number\"])['CPPN_FAIL'].any().reset_index()\n",
    "workorders_with_cppn = workorders_with_cppn.rename(columns={\"CPPN_FAIL\":\"HAS_ATLEAST_1_CPPN_FAIL\"})"
   ]
  },
  {
   "cell_type": "code",
   "execution_count": null,
   "metadata": {
    "ExecuteTime": {
     "start_time": "2023-06-27T01:49:17.904Z"
    }
   },
   "outputs": [],
   "source": [
    "valid_patp = valid_patp.merge(workorders_with_cppn, how='left', on=['Order','Batch Number'])"
   ]
  },
  {
   "cell_type": "code",
   "execution_count": null,
   "metadata": {
    "ExecuteTime": {
     "start_time": "2023-06-27T01:49:17.905Z"
    }
   },
   "outputs": [],
   "source": [
    "patp_cppn = valid_patp[valid_patp['HAS_ATLEAST_1_CPPN_FAIL']]\n",
    "patp_no_cppn = valid_patp[~valid_patp['HAS_ATLEAST_1_CPPN_FAIL']]"
   ]
  },
  {
   "cell_type": "code",
   "execution_count": null,
   "metadata": {
    "ExecuteTime": {
     "start_time": "2023-06-27T01:49:17.906Z"
    }
   },
   "outputs": [],
   "source": [
    "patp_cppn_valid = (patp_cppn.sort_values(by=['Order','Batch Number', 'CPPN_FAIL', 'PATP_Time'],\n",
    "                                         ascending=[True, True, False, True])\n",
    "                   .drop_duplicates(['Order','Batch Number'], keep='first'))\n",
    "patp_no_cppn_valid = (patp_no_cppn.sort_values(by=['PATP_Time'], ascending=False)\n",
    "                      .drop_duplicates(['Order','Batch Number'], keep='first'))\n",
    "valid_patp = pd.concat([patp_cppn_valid, patp_no_cppn_valid])"
   ]
  },
  {
   "cell_type": "code",
   "execution_count": null,
   "metadata": {
    "ExecuteTime": {
     "start_time": "2023-06-27T01:49:17.907Z"
    }
   },
   "outputs": [],
   "source": [
    "merged_df = valid_hnulls.merge(valid_patp, on=[\"Order\",\"Batch Number\"])"
   ]
  },
  {
   "cell_type": "code",
   "execution_count": null,
   "metadata": {
    "ExecuteTime": {
     "start_time": "2023-06-27T01:49:17.907Z"
    }
   },
   "outputs": [],
   "source": [
    "merged_df = merged_df.drop(columns='Test')"
   ]
  },
  {
   "cell_type": "code",
   "execution_count": null,
   "metadata": {
    "ExecuteTime": {
     "start_time": "2023-06-27T01:49:17.909Z"
    }
   },
   "outputs": [],
   "source": [
    "final_df = merged_df[merged_df['HNULL_Time']<merged_df['PATP_Time']]"
   ]
  },
  {
   "cell_type": "code",
   "execution_count": null,
   "metadata": {
    "ExecuteTime": {
     "start_time": "2023-06-27T01:49:17.909Z"
    }
   },
   "outputs": [],
   "source": [
    "final_df"
   ]
  }
 ],
 "metadata": {
  "kernelspec": {
   "display_name": "Python 3",
   "language": "python",
   "name": "python3"
  },
  "language_info": {
   "codemirror_mode": {
    "name": "ipython",
    "version": 3
   },
   "file_extension": ".py",
   "mimetype": "text/x-python",
   "name": "python",
   "nbconvert_exporter": "python",
   "pygments_lexer": "ipython3",
   "version": "3.8.5"
  },
  "varInspector": {
   "cols": {
    "lenName": 16,
    "lenType": 16,
    "lenVar": 40
   },
   "kernels_config": {
    "python": {
     "delete_cmd_postfix": "",
     "delete_cmd_prefix": "del ",
     "library": "var_list.py",
     "varRefreshCmd": "print(var_dic_list())"
    },
    "r": {
     "delete_cmd_postfix": ") ",
     "delete_cmd_prefix": "rm(",
     "library": "var_list.r",
     "varRefreshCmd": "cat(var_dic_list()) "
    }
   },
   "types_to_exclude": [
    "module",
    "function",
    "builtin_function_or_method",
    "instance",
    "_Feature"
   ],
   "window_display": false
  }
 },
 "nbformat": 4,
 "nbformat_minor": 4
}
